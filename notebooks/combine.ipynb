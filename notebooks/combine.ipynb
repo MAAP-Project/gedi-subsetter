{
 "cells": [
  {
   "cell_type": "markdown",
   "id": "828748b7",
   "metadata": {},
   "source": [
    "# Combine\n",
    "\n",
    "Combine together the subsets as a single data layer (geojson?)\n",
    "\n",
    "1. make a list of all the subsets (geojson)\n",
    "2. read in the 1st subset\n",
    "    a. add column for uid (granuleid, or name of the file)? What does the user need to find this\n",
    "    Would the user know what collection this came from?\n",
    "3. read next subset (loop over remaining)\n",
    "    a. add column for uid (granuleid, or name of the file)? What does the user need to find this\n",
    "    b. append to the 1st subset https://geopandas.org/en/stable/docs/user_guide/mergingdata.html\n",
    "4. save final geodataframe as new geojson"
   ]
  },
  {
   "cell_type": "code",
   "execution_count": 15,
   "id": "7ba857f7",
   "metadata": {},
   "outputs": [],
   "source": [
    "import os\n",
    "import os.path\n",
    "from functools import reduce\n",
    "from pathlib import Path\n",
    "from typing import Iterable, Union\n",
    "\n",
    "import geopandas as gpd\n",
    "from profilehooks import timecall\n",
    "\n",
    "import matplotlib.pyplot as plt\n",
    "\n",
    "from gedi_utils import get_geo_boundary"
   ]
  },
  {
   "cell_type": "code",
   "execution_count": 4,
   "id": "dc1185fc",
   "metadata": {},
   "outputs": [],
   "source": [
    "def chext(ext: str, path: str) -> str:\n",
    "    return f\"{os.path.splitext(path)[0]}{ext}\""
   ]
  },
  {
   "cell_type": "code",
   "execution_count": 5,
   "id": "70410f1b",
   "metadata": {},
   "outputs": [],
   "source": [
    "def combine_subsets(paths: Iterable[Union[str, os.PathLike]]) -> gpd.GeoDataFrame:\n",
    "    gdfs = (\n",
    "        gpd.read_file(path).assign(filename=chext(\".h5\", os.path.basename(path)))\n",
    "        for path in paths\n",
    "    )\n",
    "\n",
    "    return reduce(gpd.GeoDataFrame.append, gdfs, gpd.GeoDataFrame())"
   ]
  },
  {
   "cell_type": "code",
   "execution_count": 6,
   "id": "d4486b9b",
   "metadata": {},
   "outputs": [
    {
     "name": "stderr",
     "output_type": "stream",
     "text": [
      "\n",
      "  combine_subsets (/tmp/ipykernel_3097/2207665546.py:1):\n",
      "    19.166 seconds\n",
      "\n"
     ]
    },
    {
     "data": {
      "text/html": [
       "<div>\n",
       "<style scoped>\n",
       "    .dataframe tbody tr th:only-of-type {\n",
       "        vertical-align: middle;\n",
       "    }\n",
       "\n",
       "    .dataframe tbody tr th {\n",
       "        vertical-align: top;\n",
       "    }\n",
       "\n",
       "    .dataframe thead th {\n",
       "        text-align: right;\n",
       "    }\n",
       "</style>\n",
       "<table border=\"1\" class=\"dataframe\">\n",
       "  <thead>\n",
       "    <tr style=\"text-align: right;\">\n",
       "      <th></th>\n",
       "      <th>BEAM</th>\n",
       "      <th>agbd</th>\n",
       "      <th>agbd_se</th>\n",
       "      <th>l4_quality_flag</th>\n",
       "      <th>lat_lowestmode</th>\n",
       "      <th>lon_lowestmode</th>\n",
       "      <th>sensitivity</th>\n",
       "      <th>geometry</th>\n",
       "      <th>filename</th>\n",
       "    </tr>\n",
       "  </thead>\n",
       "  <tbody>\n",
       "    <tr>\n",
       "      <th>0</th>\n",
       "      <td>BEAM1011</td>\n",
       "      <td>-9999.000000</td>\n",
       "      <td>-9999.000000</td>\n",
       "      <td>0</td>\n",
       "      <td>-1.641881</td>\n",
       "      <td>11.800564</td>\n",
       "      <td>1.663576</td>\n",
       "      <td>POINT (11.80056 -1.64188)</td>\n",
       "      <td>GEDI04_A_2019108045816_O01962_01_T01066_02_002...</td>\n",
       "    </tr>\n",
       "    <tr>\n",
       "      <th>1</th>\n",
       "      <td>BEAM1011</td>\n",
       "      <td>-9999.000000</td>\n",
       "      <td>-9999.000000</td>\n",
       "      <td>0</td>\n",
       "      <td>-1.640194</td>\n",
       "      <td>11.801753</td>\n",
       "      <td>-0.006900</td>\n",
       "      <td>POINT (11.80175 -1.64019)</td>\n",
       "      <td>GEDI04_A_2019108045816_O01962_01_T01066_02_002...</td>\n",
       "    </tr>\n",
       "    <tr>\n",
       "      <th>2</th>\n",
       "      <td>BEAM1011</td>\n",
       "      <td>-9999.000000</td>\n",
       "      <td>-9999.000000</td>\n",
       "      <td>0</td>\n",
       "      <td>-1.641037</td>\n",
       "      <td>11.801158</td>\n",
       "      <td>-11.257782</td>\n",
       "      <td>POINT (11.80116 -1.64104)</td>\n",
       "      <td>GEDI04_A_2019108045816_O01962_01_T01066_02_002...</td>\n",
       "    </tr>\n",
       "    <tr>\n",
       "      <th>3</th>\n",
       "      <td>BEAM1011</td>\n",
       "      <td>-9999.000000</td>\n",
       "      <td>-9999.000000</td>\n",
       "      <td>0</td>\n",
       "      <td>-1.641459</td>\n",
       "      <td>11.800861</td>\n",
       "      <td>-3.026042</td>\n",
       "      <td>POINT (11.80086 -1.64146)</td>\n",
       "      <td>GEDI04_A_2019108045816_O01962_01_T01066_02_002...</td>\n",
       "    </tr>\n",
       "    <tr>\n",
       "      <th>4</th>\n",
       "      <td>BEAM1011</td>\n",
       "      <td>-9999.000000</td>\n",
       "      <td>-9999.000000</td>\n",
       "      <td>0</td>\n",
       "      <td>-1.640616</td>\n",
       "      <td>11.801456</td>\n",
       "      <td>-3.575460</td>\n",
       "      <td>POINT (11.80146 -1.64062)</td>\n",
       "      <td>GEDI04_A_2019108045816_O01962_01_T01066_02_002...</td>\n",
       "    </tr>\n",
       "    <tr>\n",
       "      <th>...</th>\n",
       "      <td>...</td>\n",
       "      <td>...</td>\n",
       "      <td>...</td>\n",
       "      <td>...</td>\n",
       "      <td>...</td>\n",
       "      <td>...</td>\n",
       "      <td>...</td>\n",
       "      <td>...</td>\n",
       "      <td>...</td>\n",
       "    </tr>\n",
       "    <tr>\n",
       "      <th>23270</th>\n",
       "      <td>BEAM1000</td>\n",
       "      <td>429.548584</td>\n",
       "      <td>17.125612</td>\n",
       "      <td>1</td>\n",
       "      <td>0.029887</td>\n",
       "      <td>12.528588</td>\n",
       "      <td>0.990790</td>\n",
       "      <td>POINT (12.52859 0.02989)</td>\n",
       "      <td>GEDI04_A_2019115021551_O02069_02_T03606_02_002...</td>\n",
       "    </tr>\n",
       "    <tr>\n",
       "      <th>23271</th>\n",
       "      <td>BEAM1000</td>\n",
       "      <td>287.811005</td>\n",
       "      <td>17.121216</td>\n",
       "      <td>1</td>\n",
       "      <td>0.028623</td>\n",
       "      <td>12.527698</td>\n",
       "      <td>0.965249</td>\n",
       "      <td>POINT (12.52770 0.02862)</td>\n",
       "      <td>GEDI04_A_2019115021551_O02069_02_T03606_02_002...</td>\n",
       "    </tr>\n",
       "    <tr>\n",
       "      <th>23272</th>\n",
       "      <td>BEAM1000</td>\n",
       "      <td>367.783478</td>\n",
       "      <td>17.125341</td>\n",
       "      <td>1</td>\n",
       "      <td>0.029044</td>\n",
       "      <td>12.527995</td>\n",
       "      <td>0.988107</td>\n",
       "      <td>POINT (12.52799 0.02904)</td>\n",
       "      <td>GEDI04_A_2019115021551_O02069_02_T03606_02_002...</td>\n",
       "    </tr>\n",
       "    <tr>\n",
       "      <th>23273</th>\n",
       "      <td>BEAM1000</td>\n",
       "      <td>632.803894</td>\n",
       "      <td>17.139700</td>\n",
       "      <td>1</td>\n",
       "      <td>0.029465</td>\n",
       "      <td>12.528291</td>\n",
       "      <td>0.989402</td>\n",
       "      <td>POINT (12.52829 0.02947)</td>\n",
       "      <td>GEDI04_A_2019115021551_O02069_02_T03606_02_002...</td>\n",
       "    </tr>\n",
       "    <tr>\n",
       "      <th>23274</th>\n",
       "      <td>BEAM1000</td>\n",
       "      <td>40.313904</td>\n",
       "      <td>17.132328</td>\n",
       "      <td>1</td>\n",
       "      <td>0.028201</td>\n",
       "      <td>12.527401</td>\n",
       "      <td>0.988304</td>\n",
       "      <td>POINT (12.52740 0.02820)</td>\n",
       "      <td>GEDI04_A_2019115021551_O02069_02_T03606_02_002...</td>\n",
       "    </tr>\n",
       "  </tbody>\n",
       "</table>\n",
       "<p>330309 rows × 9 columns</p>\n",
       "</div>"
      ],
      "text/plain": [
       "           BEAM         agbd      agbd_se  l4_quality_flag  lat_lowestmode  \\\n",
       "0      BEAM1011 -9999.000000 -9999.000000                0       -1.641881   \n",
       "1      BEAM1011 -9999.000000 -9999.000000                0       -1.640194   \n",
       "2      BEAM1011 -9999.000000 -9999.000000                0       -1.641037   \n",
       "3      BEAM1011 -9999.000000 -9999.000000                0       -1.641459   \n",
       "4      BEAM1011 -9999.000000 -9999.000000                0       -1.640616   \n",
       "...         ...          ...          ...              ...             ...   \n",
       "23270  BEAM1000   429.548584    17.125612                1        0.029887   \n",
       "23271  BEAM1000   287.811005    17.121216                1        0.028623   \n",
       "23272  BEAM1000   367.783478    17.125341                1        0.029044   \n",
       "23273  BEAM1000   632.803894    17.139700                1        0.029465   \n",
       "23274  BEAM1000    40.313904    17.132328                1        0.028201   \n",
       "\n",
       "       lon_lowestmode  sensitivity                   geometry  \\\n",
       "0           11.800564     1.663576  POINT (11.80056 -1.64188)   \n",
       "1           11.801753    -0.006900  POINT (11.80175 -1.64019)   \n",
       "2           11.801158   -11.257782  POINT (11.80116 -1.64104)   \n",
       "3           11.800861    -3.026042  POINT (11.80086 -1.64146)   \n",
       "4           11.801456    -3.575460  POINT (11.80146 -1.64062)   \n",
       "...               ...          ...                        ...   \n",
       "23270       12.528588     0.990790   POINT (12.52859 0.02989)   \n",
       "23271       12.527698     0.965249   POINT (12.52770 0.02862)   \n",
       "23272       12.527995     0.988107   POINT (12.52799 0.02904)   \n",
       "23273       12.528291     0.989402   POINT (12.52829 0.02947)   \n",
       "23274       12.527401     0.988304   POINT (12.52740 0.02820)   \n",
       "\n",
       "                                                filename  \n",
       "0      GEDI04_A_2019108045816_O01962_01_T01066_02_002...  \n",
       "1      GEDI04_A_2019108045816_O01962_01_T01066_02_002...  \n",
       "2      GEDI04_A_2019108045816_O01962_01_T01066_02_002...  \n",
       "3      GEDI04_A_2019108045816_O01962_01_T01066_02_002...  \n",
       "4      GEDI04_A_2019108045816_O01962_01_T01066_02_002...  \n",
       "...                                                  ...  \n",
       "23270  GEDI04_A_2019115021551_O02069_02_T03606_02_002...  \n",
       "23271  GEDI04_A_2019115021551_O02069_02_T03606_02_002...  \n",
       "23272  GEDI04_A_2019115021551_O02069_02_T03606_02_002...  \n",
       "23273  GEDI04_A_2019115021551_O02069_02_T03606_02_002...  \n",
       "23274  GEDI04_A_2019115021551_O02069_02_T03606_02_002...  \n",
       "\n",
       "[330309 rows x 9 columns]"
      ]
     },
     "execution_count": 6,
     "metadata": {},
     "output_type": "execute_result"
    }
   ],
   "source": [
    "dirpath = Path(\"/\") / \"projects\" / \"my-public-bucket\" / \"gedi-l4a\" / \"gabon\"\n",
    "\n",
    "gabon_gdf = timecall(combine_subsets)(dirpath.glob(\"*.fgb\"))\n",
    "# gabon_gdf.to_file(dirpath.parent / 'gabon.fgb', driver='FlatGeobuf')\n",
    "gabon_gdf"
   ]
  },
  {
   "cell_type": "code",
   "execution_count": 31,
   "id": "159b3e39",
   "metadata": {},
   "outputs": [
    {
     "data": {
      "text/plain": [
       "array([[<matplotlib.axes._subplots.AxesSubplot object at 0x7fbb11f9a810>]],\n",
       "      dtype=object)"
      ]
     },
     "execution_count": 31,
     "metadata": {},
     "output_type": "execute_result"
    },
    {
     "data": {
      "image/png": "[encoded data removed]",
      "text/plain": [
       "<Figure size 432x288 with 1 Axes>"
      ]
     },
     "metadata": {
      "needs_background": "light"
     },
     "output_type": "display_data"
    }
   ],
   "source": [
    "gabon_gdf.hist(column=\"agbd\")"
   ]
  },
  {
   "cell_type": "code",
   "execution_count": 28,
   "id": "474044f5",
   "metadata": {},
   "outputs": [
    {
     "data": {
      "text/plain": [
       "array([[<matplotlib.axes._subplots.AxesSubplot object at 0x7fbb1205cdd0>]],\n",
       "      dtype=object)"
      ]
     },
     "execution_count": 28,
     "metadata": {},
     "output_type": "execute_result"
    },
    {
     "data": {
      "image/png": "[encoded data removed]",
      "text/plain": [
       "<Figure size 432x288 with 1 Axes>"
      ]
     },
     "metadata": {
      "needs_background": "light"
     },
     "output_type": "display_data"
    }
   ],
   "source": [
    "# histogram above shows a lot of nodata values -9999\n",
    "# even without those the distribution is skewed, need different breaks or transformation\n",
    "gabon_gdf[gabon_gdf[\"agbd\"] > -9999].hist(column=\"agbd\", bins=20)"
   ]
  },
  {
   "cell_type": "code",
   "execution_count": 29,
   "id": "a6fa602c",
   "metadata": {},
   "outputs": [],
   "source": [
    "# filter them out\n",
    "gabon_valid_gdf = gabon_gdf[gabon_gdf[\"agbd\"] > -9999]"
   ]
  },
  {
   "cell_type": "code",
   "execution_count": 33,
   "id": "7ee04b19",
   "metadata": {},
   "outputs": [
    {
     "data": {
      "image/png": "[encoded data removed]",
      "text/plain": [
       "<Figure size 432x288 with 1 Axes>"
      ]
     },
     "metadata": {
      "needs_background": "light"
     },
     "output_type": "display_data"
    }
   ],
   "source": [
    "gabon_iso3 = get_geo_boundary(\"GAB\", 0)\n",
    "base = gabon_iso3.plot(color=\"white\", edgecolor=\"black\")\n",
    "agbd_colors = plt.cm.get_cmap(\"viridis_r\")\n",
    "gabon_valid_gdf.plot(ax=base, column=\"agbd\", cmap=agbd_colors);"
   ]
  },
  {
   "cell_type": "code",
   "execution_count": null,
   "id": "5bfef257",
   "metadata": {},
   "outputs": [],
   "source": [
    "import folium\n",
    "\n",
    "m = gabon_gdf.explore(\n",
    "    cmap=agbd_colors,  # use red color on all points\n",
    "    marker_kwds=dict(radius=2, fill=True),  # make marker radius 10px with fill\n",
    "    tooltip=\"agbd\",  # show \"name\" column in the tooltip\n",
    "    # tooltip_kwds=dict(labels=False), # do not show column label in the tooltip\n",
    "    name=\"agbd\",  # name of the layer in the map\n",
    ")\n",
    "\n",
    "folium.TileLayer(\"Stamen Toner\", control=True).add_to(\n",
    "    m\n",
    ")  # use folium to add alternative tiles\n",
    "folium.LayerControl().add_to(m)  # use folium to add layer control\n",
    "\n",
    "# too many points without aggregation\n",
    "# m  # show map"
   ]
  }
 ],
 "metadata": {
  "kernelspec": {
   "display_name": "Python 3 (ipykernel)",
   "language": "python",
   "name": "python3"
  },
  "language_info": {
   "codemirror_mode": {
    "name": "ipython",
    "version": 3
   },
   "file_extension": ".py",
   "mimetype": "text/x-python",
   "name": "python",
   "nbconvert_exporter": "python",
   "pygments_lexer": "ipython3",
   "version": "3.7.8"
  }
 },
 "nbformat": 4,
 "nbformat_minor": 5
}
