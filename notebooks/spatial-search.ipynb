{
 "cells": [
  {
   "cell_type": "markdown",
   "id": "842a1488",
   "metadata": {},
   "source": [
    "# Setup Gabon GEDI L4A Testing\n",
    "\n",
    "1. Download Gabon outline in geospatial format\n",
    "2. Save to the workspace, probably not the repo?\n",
    "3. Query CMR with the bbox of the polygon to find out how many granules are involved\n",
    "\n",
    "Boundary file is available at `shared-buckets/alexdevseed/iso3/GAB-ADM0.json`"
   ]
  },
  {
   "cell_type": "code",
   "execution_count": 154,
   "id": "b14e2181",
   "metadata": {},
   "outputs": [],
   "source": [
    "import json\n",
    "import os\n",
    "import os.path\n",
    "from typing import Any, Callable, Mapping, Optional, Iterable, TypeVar\n",
    "\n",
    "import geopandas as gpd\n",
    "import requests\n",
    "from shapely.geometry import Polygon\n",
    "from maap.maap import Granule, MAAP\n",
    "from profilehooks import timecall"
   ]
  },
  {
   "cell_type": "markdown",
   "id": "e18f0ba0",
   "metadata": {},
   "source": [
    "## Get Gabon GeoBoundary"
   ]
  },
  {
   "cell_type": "code",
   "execution_count": 160,
   "id": "0ceef422",
   "metadata": {},
   "outputs": [
    {
     "data": {
      "text/html": [
       "<div>\n",
       "<style scoped>\n",
       "    .dataframe tbody tr th:only-of-type {\n",
       "        vertical-align: middle;\n",
       "    }\n",
       "\n",
       "    .dataframe tbody tr th {\n",
       "        vertical-align: top;\n",
       "    }\n",
       "\n",
       "    .dataframe thead th {\n",
       "        text-align: right;\n",
       "    }\n",
       "</style>\n",
       "<table border=\"1\" class=\"dataframe\">\n",
       "  <thead>\n",
       "    <tr style=\"text-align: right;\">\n",
       "      <th></th>\n",
       "      <th>shapeName</th>\n",
       "      <th>shapeISO</th>\n",
       "      <th>shapeID</th>\n",
       "      <th>shapeGroup</th>\n",
       "      <th>shapeType</th>\n",
       "      <th>geometry</th>\n",
       "    </tr>\n",
       "  </thead>\n",
       "  <tbody>\n",
       "    <tr>\n",
       "      <th>0</th>\n",
       "      <td>Equatorial Guinea</td>\n",
       "      <td>GNQ</td>\n",
       "      <td>GNQ-ADM0-3_0_0-B1</td>\n",
       "      <td>GNQ</td>\n",
       "      <td>ADM0</td>\n",
       "      <td>MULTIPOLYGON (((5.63304 -1.40378, 5.63342 -1.4...</td>\n",
       "    </tr>\n",
       "  </tbody>\n",
       "</table>\n",
       "</div>"
      ],
      "text/plain": [
       "           shapeName shapeISO            shapeID shapeGroup shapeType  \\\n",
       "0  Equatorial Guinea      GNQ  GNQ-ADM0-3_0_0-B1        GNQ      ADM0   \n",
       "\n",
       "                                            geometry  \n",
       "0  MULTIPOLYGON (((5.63304 -1.40378, 5.63342 -1.4...  "
      ]
     },
     "execution_count": 160,
     "metadata": {},
     "output_type": "execute_result"
    }
   ],
   "source": [
    "def get_geo_boundary(*, iso: str, level: int) -> gpd.GeoDataFrame:\n",
    "    file_path = f\"/projects/my-public-bucket/iso3/{iso}-ADM{level}.json\"\n",
    "\n",
    "    if not os.path.exists(file_path):\n",
    "        r = requests.get(\n",
    "            \"https://www.geoboundaries.org/gbRequest.html\",\n",
    "            dict(ISO=iso, ADM=f\"ADM{level}\"),\n",
    "        )\n",
    "        r.raise_for_status()\n",
    "        dl_url = r.json()[0][\"gjDownloadURL\"]\n",
    "        geo_boundary = requests.get(dl_url).json()\n",
    "\n",
    "        with open(file_path, \"w\") as out:\n",
    "            out.write(json.dumps(geo_boundary))\n",
    "\n",
    "    return gpd.read_file(file_path)\n",
    "\n",
    "\n",
    "aoi_gdf = get_geo_boundary(iso=\"GNQ\", level=0)\n",
    "aoi_gdf"
   ]
  },
  {
   "cell_type": "markdown",
   "id": "5fdb70d5",
   "metadata": {},
   "source": [
    "## Find GEDI L4A Collection"
   ]
  },
  {
   "cell_type": "code",
   "execution_count": 161,
   "id": "4bcc31b6",
   "metadata": {},
   "outputs": [],
   "source": [
    "nasa_cmr_host = \"cmr.earthdata.nasa.gov\"\n",
    "maap_cmr_host = \"cmr.maap-project.org\"\n",
    "maap = MAAP(\"api.ops.maap-project.org\")\n",
    "cmr_host = maap_cmr_host\n",
    "\n",
    "gedi_l4a_doi = \"10.3334/ORNLDAAC/1986\"\n",
    "gedi_l4a = maap.searchCollection(cmr_host=cmr_host, doi=gedi_l4a_doi, limit=1)[0]\n",
    "gedi_l4a_concept_id = gedi_l4a[\"concept-id\"]"
   ]
  },
  {
   "cell_type": "markdown",
   "id": "4d156545",
   "metadata": {},
   "source": [
    "## Find GEDI L4A Granules within Gabon Bounding Box"
   ]
  },
  {
   "cell_type": "code",
   "execution_count": 162,
   "id": "3b4290e2",
   "metadata": {},
   "outputs": [
    {
     "name": "stderr",
     "output_type": "stream",
     "text": [
      "\n",
      "  searchGranule (/maap-py/maap/maap.py:104):\n",
      "    88.090 seconds\n",
      "\n"
     ]
    },
    {
     "name": "stdout",
     "output_type": "stream",
     "text": [
      "Found 1008 granules\n"
     ]
    }
   ],
   "source": [
    "# TODO Handle cases where there are more than 2000 granules,\n",
    "# as 2000 is the largest limit value allowed for a single query\n",
    "# (a CMR constraint).\n",
    "granules = timecall(maap.searchGranule)(\n",
    "    cmr_host=cmr_host,\n",
    "    collection_concept_id=gedi_l4a_concept_id,\n",
    "    bounding_box=\",\".join(map(str, aoi_gdf.total_bounds)),\n",
    "    # polygon='',\n",
    "    limit=1200,\n",
    ")\n",
    "\n",
    "print(f\"Found {len(granules)} granules\")"
   ]
  },
  {
   "cell_type": "code",
   "execution_count": 163,
   "id": "97827dff",
   "metadata": {},
   "outputs": [],
   "source": [
    "def granules_spatial_filter(granule, aoi):\n",
    "    # return true or false if granule polygon intersects aoi\n",
    "    # reading bounding geometries\n",
    "    polygons = granule[\"Granule\"][\"Spatial\"][\"HorizontalSpatialDomain\"][\"Geometry\"][\n",
    "        \"GPolygon\"\n",
    "    ][\"Boundary\"][\"Point\"]\n",
    "    granule_poly = Polygon(\n",
    "        [[float(p[\"PointLongitude\"]), float(p[\"PointLatitude\"])] for p in polygons]\n",
    "    )\n",
    "\n",
    "    return granule_poly.intersects(aoi)\n",
    "\n",
    "\n",
    "results = [granules_spatial_filter(g, aoi_gdf.geometry[0]) for g in granules]\n",
    "filtered_granules = [d for d, s in zip(granules, results) if s]"
   ]
  },
  {
   "cell_type": "code",
   "execution_count": 165,
   "id": "3888dae6",
   "metadata": {},
   "outputs": [
    {
     "name": "stdout",
     "output_type": "stream",
     "text": [
      "252\n",
      "True\n"
     ]
    }
   ],
   "source": [
    "print(sum(results))\n",
    "print(sum(results) == len(filtered_granules))"
   ]
  }
 ],
 "metadata": {
  "kernelspec": {
   "display_name": "Python 3 (ipykernel)",
   "language": "python",
   "name": "python3"
  },
  "language_info": {
   "codemirror_mode": {
    "name": "ipython",
    "version": 3
   },
   "file_extension": ".py",
   "mimetype": "text/x-python",
   "name": "python",
   "nbconvert_exporter": "python",
   "pygments_lexer": "ipython3",
   "version": "3.7.8"
  }
 },
 "nbformat": 4,
 "nbformat_minor": 5
}
