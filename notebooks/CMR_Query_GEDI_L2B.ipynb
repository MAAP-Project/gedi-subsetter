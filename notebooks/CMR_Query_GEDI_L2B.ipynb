{
 "cells": [
  {
   "cell_type": "markdown",
   "id": "extreme-identity",
   "metadata": {},
   "source": [
    "# Searching MAAP CMR [GEDI-L2B]\n",
    "\n",
    "A quick way to generate a list of granule URLs based on the CMR Host, DOI, over an Area of Interest (AOI)."
   ]
  },
  {
   "cell_type": "code",
   "execution_count": 1,
   "id": "asian-circus",
   "metadata": {},
   "outputs": [],
   "source": [
    "cmr = \"cmr.maap-project.org\"\n",
    "doi = \"10.5067/GEDI/GEDI02_B.002\"  # L2B\n",
    "aoi = \"../tests/fixtures/MONTS_BIROUGOU_NATIONAL_PARK.geojson\"\n",
    "limit = 10"
   ]
  },
  {
   "cell_type": "code",
   "execution_count": 2,
   "id": "based-cabin",
   "metadata": {},
   "outputs": [
    {
     "name": "stderr",
     "output_type": "stream",
     "text": [
      "ERROR 1: PROJ: proj_create_from_database: Open of /opt/conda/envs/gedi_subset/share/proj failed\n"
     ]
    }
   ],
   "source": [
    "# Converting the bounds of the AOI for maap.searchGranule\n",
    "import geopandas as gpd\n",
    "\n",
    "bounds = gpd.read_file(aoi).total_bounds\n",
    "bbox = \",\".join([item for item in bounds.astype(str)])"
   ]
  },
  {
   "cell_type": "code",
   "execution_count": 3,
   "id": "governmental-gross",
   "metadata": {},
   "outputs": [
    {
     "data": {
      "text/plain": [
       "['s3://nasa-maap-data-store/file-staging/nasa-map/GEDI02_B___002/2019.05.26/GEDI02_B_2019146134206_O02558_01_T05641_02_003_01_V002.h5',\n",
       " 's3://nasa-maap-data-store/file-staging/nasa-map/GEDI02_B___002/2019.06.09/GEDI02_B_2019160192444_O02779_04_T02282_02_003_01_V002.h5',\n",
       " 's3://nasa-maap-data-store/file-staging/nasa-map/GEDI02_B___002/2019.07.16/GEDI02_B_2019197172428_O03352_01_T04218_02_003_01_V002.h5',\n",
       " 's3://nasa-maap-data-store/file-staging/nasa-map/GEDI02_B___002/2019.09.02/GEDI02_B_2019245095256_O04092_04_T04975_02_003_01_V002.h5',\n",
       " 's3://nasa-maap-data-store/file-staging/nasa-map/GEDI02_B___002/2019.10.17/GEDI02_B_2019290155834_O04794_04_T01976_02_003_01_V002.h5',\n",
       " 's3://nasa-maap-data-store/file-staging/nasa-map/GEDI02_B___002/2019.11.09/GEDI02_B_2019313070136_O05145_04_T00400_02_003_01_V002.h5',\n",
       " 's3://nasa-maap-data-store/file-staging/nasa-map/GEDI02_B___002/2019.11.09/GEDI02_B_2019313192421_O05153_01_T04371_02_003_01_V002.h5',\n",
       " 's3://nasa-maap-data-store/file-staging/nasa-map/GEDI02_B___002/2019.12.09/GEDI02_B_2019343185438_O05618_04_T03552_02_003_01_V002.h5',\n",
       " 's3://nasa-maap-data-store/file-staging/nasa-map/GEDI02_B___002/2020.01.09/GEDI02_B_2020009191531_O06099_01_T01525_02_003_01_V002.h5',\n",
       " 's3://nasa-maap-data-store/file-staging/nasa-map/GEDI02_B___002/2020.01.13/GEDI02_B_2020013051735_O06152_04_T02129_02_003_01_V002.h5']"
      ]
     },
     "execution_count": 3,
     "metadata": {},
     "output_type": "execute_result"
    }
   ],
   "source": [
    "from maap.maap import MAAP\n",
    "from gedi_subset.maapx import find_collection\n",
    "\n",
    "granules = []\n",
    "maap = MAAP(\"api.ops.maap-project.org\")\n",
    "\n",
    "# Search for the collection concept ID using find_collection\n",
    "for collection in find_collection(maap, cmr, {\"doi\": f\"*{doi}*\"}):\n",
    "\n",
    "    # Search for related granules within the collection over the AOI\n",
    "    for granule in maap.searchGranule(\n",
    "        cmr_host=cmr,\n",
    "        collection_concept_id=collection[\"concept-id\"],\n",
    "        bounding_box=bbox,\n",
    "        limit=limit,\n",
    "    ):\n",
    "        granules.append(granule.getDownloadUrl())\n",
    "granules"
   ]
  },
  {
   "cell_type": "code",
   "execution_count": null,
   "id": "executive-command",
   "metadata": {},
   "outputs": [],
   "source": [
    "with open(\"granules.txt\", \"w\") as f:\n",
    "    for granule_url in granules:\n",
    "        f.write(f\"{granule_url}\\n\")"
   ]
  },
  {
   "cell_type": "code",
   "execution_count": null,
   "id": "manual-candidate",
   "metadata": {},
   "outputs": [],
   "source": []
  }
 ],
 "metadata": {
  "kernelspec": {
   "display_name": "gedi_subset",
   "language": "python",
   "name": "gedi_subset"
  },
  "language_info": {
   "codemirror_mode": {
    "name": "ipython",
    "version": 3
   },
   "file_extension": ".py",
   "mimetype": "text/x-python",
   "name": "python",
   "nbconvert_exporter": "python",
   "pygments_lexer": "ipython3",
   "version": "3.10.4"
  }
 },
 "nbformat": 4,
 "nbformat_minor": 5
}
