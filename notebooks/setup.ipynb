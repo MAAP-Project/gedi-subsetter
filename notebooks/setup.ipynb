{
 "cells": [
  {
   "cell_type": "markdown",
   "id": "angry-berlin",
   "metadata": {},
   "source": [
    "# Setup Gabon GEDI L4A Testing\n",
    "\n",
    "1. Download Gabon outline in geospatial format\n",
    "2. Save to the workspace, probably not the repo?\n",
    "3. Query CMR with the bbox of the polygon to find out how many granules are involved\n",
    "\n",
    "Boundary file is available at `shared-buckets/alexdevseed/iso3/GAB-ADM0.json`"
   ]
  },
  {
   "cell_type": "code",
   "execution_count": 2,
   "id": "leading-repository",
   "metadata": {},
   "outputs": [
    {
     "name": "stderr",
     "output_type": "stream",
     "text": [
      "/opt/conda/lib/python3.7/site-packages/geopandas/_compat.py:115: UserWarning: The Shapely GEOS version (3.10.2-CAPI-1.16.0) is incompatible with the GEOS version PyGEOS was compiled with (3.8.1-CAPI-1.13.3). Conversions between both will be slow.\n",
      "  shapely_geos_version, geos_capi_version_string\n"
     ]
    }
   ],
   "source": [
    "import json\n",
    "import os\n",
    "import os.path\n",
    "from typing import Any, Callable, Mapping, Optional, Iterable, TypeVar\n",
    "\n",
    "import geopandas as gpd\n",
    "import requests\n",
    "from maap.maap import Granule, MAAP\n",
    "from profilehooks import timecall"
   ]
  },
  {
   "cell_type": "markdown",
   "id": "instant-cruise",
   "metadata": {},
   "source": [
    "## Get Gabon GeoBoundary"
   ]
  },
  {
   "cell_type": "code",
   "execution_count": 3,
   "id": "geographic-turning",
   "metadata": {},
   "outputs": [
    {
     "data": {
      "text/html": [
       "<div>\n",
       "<style scoped>\n",
       "    .dataframe tbody tr th:only-of-type {\n",
       "        vertical-align: middle;\n",
       "    }\n",
       "\n",
       "    .dataframe tbody tr th {\n",
       "        vertical-align: top;\n",
       "    }\n",
       "\n",
       "    .dataframe thead th {\n",
       "        text-align: right;\n",
       "    }\n",
       "</style>\n",
       "<table border=\"1\" class=\"dataframe\">\n",
       "  <thead>\n",
       "    <tr style=\"text-align: right;\">\n",
       "      <th></th>\n",
       "      <th>shapeName</th>\n",
       "      <th>shapeISO</th>\n",
       "      <th>shapeID</th>\n",
       "      <th>shapeGroup</th>\n",
       "      <th>shapeType</th>\n",
       "      <th>geometry</th>\n",
       "    </tr>\n",
       "  </thead>\n",
       "  <tbody>\n",
       "    <tr>\n",
       "      <th>0</th>\n",
       "      <td>Gabon</td>\n",
       "      <td>GAB</td>\n",
       "      <td>GAB-ADM0-3_0_0-B1</td>\n",
       "      <td>GAB</td>\n",
       "      <td>ADM0</td>\n",
       "      <td>MULTIPOLYGON (((8.83154 -0.92271, 8.83809 -0.9...</td>\n",
       "    </tr>\n",
       "  </tbody>\n",
       "</table>\n",
       "</div>"
      ],
      "text/plain": [
       "  shapeName shapeISO            shapeID shapeGroup shapeType  \\\n",
       "0     Gabon      GAB  GAB-ADM0-3_0_0-B1        GAB      ADM0   \n",
       "\n",
       "                                            geometry  \n",
       "0  MULTIPOLYGON (((8.83154 -0.92271, 8.83809 -0.9...  "
      ]
     },
     "execution_count": 3,
     "metadata": {},
     "output_type": "execute_result"
    }
   ],
   "source": [
    "def get_geo_boundary(*, iso: str, level: int) -> gpd.GeoDataFrame:\n",
    "    file_path = f\"/projects/my-public-bucket/iso3/{iso}-ADM{level}.json\"\n",
    "\n",
    "    if not os.path.exists(file_path):\n",
    "        r = requests.get(\n",
    "            \"https://www.geoboundaries.org/gbRequest.html\",\n",
    "            dict(ISO=iso, ADM=f\"ADM{level}\"),\n",
    "        )\n",
    "        r.raise_for_status()\n",
    "        dl_url = r.json()[0][\"gjDownloadURL\"]\n",
    "        geo_boundary = requests.get(dl_url).json()\n",
    "\n",
    "        with open(file_path, \"w\") as out:\n",
    "            out.write(json.dumps(geo_boundary))\n",
    "\n",
    "    return gpd.read_file(file_path)\n",
    "\n",
    "\n",
    "gabon_gdf = get_geo_boundary(iso=\"GNQ\", level=0)\n",
    "gabon_gdf"
   ]
  },
  {
   "cell_type": "markdown",
   "id": "affecting-trouble",
   "metadata": {},
   "source": [
    "## Find GEDI L4A Collection"
   ]
  },
  {
   "cell_type": "code",
   "execution_count": 5,
   "id": "environmental-ordering",
   "metadata": {},
   "outputs": [],
   "source": [
    "nasa_cmr_host = \"cmr.earthdata.nasa.gov\"\n",
    "maap_cmr_host = \"cmr.maap-project.org\"\n",
    "maap = MAAP(\"api.ops.maap-project.org\")\n",
    "cmr_host = maap_cmr_host\n",
    "\n",
    "gedi_l4a_doi = \"10.3334/ORNLDAAC/1986\"\n",
    "gedi_l4a = maap.searchCollection(cmr_host=cmr_host, doi=gedi_l4a_doi, limit=1)[0]\n",
    "gedi_l4a_concept_id = gedi_l4a[\"concept-id\"]"
   ]
  },
  {
   "cell_type": "markdown",
   "id": "intended-puppy",
   "metadata": {},
   "source": [
    "## Find GEDI L4A Granules within Gabon Bounding Box"
   ]
  },
  {
   "cell_type": "code",
   "execution_count": 16,
   "id": "binding-directory",
   "metadata": {},
   "outputs": [
    {
     "name": "stderr",
     "output_type": "stream",
     "text": [
      "\n",
      "  searchGranule (/maap-py/maap/maap.py:104):\n",
      "    87.808 seconds\n",
      "\n"
     ]
    },
    {
     "name": "stdout",
     "output_type": "stream",
     "text": [
      "Found 1008 granules\n"
     ]
    }
   ],
   "source": [
    "# TODO Handle cases where there are more than 2000 granules,\n",
    "# as 2000 is the largest limit value allowed for a single query\n",
    "# (a CMR constraint).\n",
    "granules = timecall(maap.searchGranule)(\n",
    "    cmr_host=cmr_host,\n",
    "    collection_concept_id=gedi_l4a_concept_id,\n",
    "    # bounding_box=','.join(map(str, gabon_gdf.total_bounds)),\n",
    "    polygon=\"\",\n",
    "    limit=20,\n",
    ")\n",
    "\n",
    "print(f\"Found {len(granules)} granules\")"
   ]
  },
  {
   "cell_type": "code",
   "execution_count": 5,
   "id": "floating-stopping",
   "metadata": {},
   "outputs": [
    {
     "data": {
      "text/plain": [
       "array([ 5.6168413, -1.4680697, 11.3598628,  3.7882348])"
      ]
     },
     "execution_count": 5,
     "metadata": {},
     "output_type": "execute_result"
    }
   ],
   "source": [
    "gabon_gdf.total_bounds"
   ]
  },
  {
   "cell_type": "markdown",
   "id": "matched-tuition",
   "metadata": {},
   "source": [
    "## Download Granule Files\n",
    "\n",
    "Although the size of the granule files vary greatly, from under 100 MB to over 900 MB, they are all relatively large files.  As such, attempting to download them all serially would be rather time-consuming. Therefore, we want to perform some level of concurrency to shorten the total download time as much as possible.\n",
    "\n",
    "Determining a reasonably good concurrency level is generally not something that can be computed without some trial, although for blocking operations that are generally several seconds or more, much more than a handful of concurrent threads tends to suffer from the management overhead of many threads, so a good rule of thumb as a starting point is to do some trials centered around a concurrency level of 5.\n",
    "\n",
    "Since this is an IO-bound operation, we'll simply use a `ThreadPoolExecutor`, as using multiple processors won't help.\n",
    "\n",
    "First, we need a function to download a single granule file, such that the function is suitable for use with a mapping function."
   ]
  },
  {
   "cell_type": "code",
   "execution_count": 6,
   "id": "disturbed-brazilian",
   "metadata": {},
   "outputs": [],
   "source": [
    "def download_granule(dest_dir: str, *, overwrite=False) -> Callable[[Granule], None]:\n",
    "    os.makedirs(dest_dir, exist_ok=True)\n",
    "\n",
    "    @timecall\n",
    "    def do_download_granule(granule: Granule) -> None:\n",
    "        granule.getData(dest_dir, overwrite)\n",
    "\n",
    "    return do_download_granule"
   ]
  },
  {
   "cell_type": "markdown",
   "id": "early-coating",
   "metadata": {},
   "source": [
    "In addition to comparing the performance of varying numbers of threads in a `ThreadPoolExecutor`, it would be nice to compare the use of a `ThreadPoolExecutor` to using `asyncio.gather` in combination with `asycio.to_thread`, but `asyncio.to_thread` was not introduced until Python 3.9, so we cannot attempt this at the moment."
   ]
  },
  {
   "cell_type": "code",
   "execution_count": 20,
   "id": "monthly-paris",
   "metadata": {},
   "outputs": [],
   "source": [
    "## Requires Python 3.9+\n",
    "\n",
    "# import asyncio\n",
    "\n",
    "# async def download_all_granules(dest_dir: str, granules: Iterator[Granule]) -> None:\n",
    "#     await asyncio.gather(*(asyncio.to_thread(download_granule(dest_dir), granule) for granule in granules))\n",
    "\n",
    "## TODO add code for timings\n",
    "\n",
    "## In script:\n",
    "# asyncio.run(download_all_granules('/projects/my-public-bucket/gedi-l4a/gabon', granules))\n",
    "\n",
    "## In Jupyter:\n",
    "# await download_all_granules('/projects/my-public-bucket/gedi-l4a/gabon', granules)"
   ]
  },
  {
   "cell_type": "code",
   "execution_count": 11,
   "id": "becoming-fruit",
   "metadata": {},
   "outputs": [],
   "source": [
    "def make_concurrent_map(max_workers, *, timeout=None):\n",
    "    @timecall\n",
    "    def concurrent_map(fn, iterable) -> Iterable:\n",
    "        with concurrent.futures.ThreadPoolExecutor(max_workers=max_workers) as executor:\n",
    "            executor.map(fn, iterable, timeout=timeout)\n",
    "\n",
    "    return concurrent_map\n",
    "\n",
    "\n",
    "download_granule_to_gabon_dir = download_granule(\n",
    "    \"/projects/my-public-bucket/gedi-l4a/gabon\"\n",
    ")"
   ]
  },
  {
   "cell_type": "code",
   "execution_count": 21,
   "id": "continued-prompt",
   "metadata": {},
   "outputs": [],
   "source": [
    "# make_concurrent_map(3)(download_granule_to_gabon_dir, granules[700:750])"
   ]
  },
  {
   "cell_type": "code",
   "execution_count": 22,
   "id": "known-nevada",
   "metadata": {},
   "outputs": [
    {
     "name": "stdout",
     "output_type": "stream",
     "text": [
      "3 workers: 49.98892573687376 MB/s\n",
      "4 workers: 59.83221988067294 MB/s\n",
      "5 workers: 54.6060133935118 MB/s\n",
      "6 workers: 50.50512971442284 MB/s\n",
      "8 workers: 46.66166826874708 MB/s\n",
      "10 workers: 45.50259130213073 MB/s\n"
     ]
    }
   ],
   "source": [
    "print(f\"3 workers: {11634422576 / 232.740 / 1_000_000} MB/s\")\n",
    "print(f\"4 workers: {12796077537 / 213.866 / 1_000_000} MB/s\")\n",
    "print(f\"5 workers: {10054004580 / 184.119 / 1_000_000} MB/s\")\n",
    "print(f\"6 workers: {10522743776 / 208.35 / 1_000_000} MB/s\")\n",
    "print(f\"8 workers: {16232707819 / 347.881 / 1_000_000} MB/s\")\n",
    "print(f\"10 workers: {10350974972 / 227.481 / 1_000_000} MB/s\")"
   ]
  }
 ],
 "metadata": {
  "kernelspec": {
   "display_name": "Python 3 (ipykernel)",
   "language": "python",
   "name": "python3"
  },
  "language_info": {
   "codemirror_mode": {
    "name": "ipython",
    "version": 3
   },
   "file_extension": ".py",
   "mimetype": "text/x-python",
   "name": "python",
   "nbconvert_exporter": "python",
   "pygments_lexer": "ipython3",
   "version": "3.7.4"
  }
 },
 "nbformat": 4,
 "nbformat_minor": 5
}
