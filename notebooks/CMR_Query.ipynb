{
 "cells": [
  {
   "cell_type": "markdown",
   "id": "duplicate-density",
   "metadata": {},
   "source": [
    "# Searching MAAP CMR\n",
    "\n",
    "A quick way to generate a list of granule URLs based on the CMR Host, DOI, over an Area of Interest (AOI)."
   ]
  },
  {
   "cell_type": "code",
   "execution_count": 1,
   "id": "abroad-cleaner",
   "metadata": {},
   "outputs": [],
   "source": [
    "cmr = \"cmr.maap-project.org\"\n",
    "doi = \"10.3334/ORNLDAAC/2056\"\n",
    "aoi = \"../tests/fixtures/MONTS_BIROUGOU_NATIONAL_PARK.geojson\"\n",
    "limit = 10"
   ]
  },
  {
   "cell_type": "code",
   "execution_count": 2,
   "id": "phantom-engine",
   "metadata": {},
   "outputs": [
    {
     "name": "stderr",
     "output_type": "stream",
     "text": [
      "ERROR 1: PROJ: proj_create_from_database: Open of /opt/conda/envs/gedi_subset/share/proj failed\n"
     ]
    }
   ],
   "source": [
    "# Converting the bounds of the AOI for maap.searchGranule\n",
    "import geopandas as gpd\n",
    "\n",
    "bounds = gpd.read_file(aoi).total_bounds\n",
    "bbox = \",\".join([item for item in bounds.astype(str)])"
   ]
  },
  {
   "cell_type": "code",
   "execution_count": 3,
   "id": "boxed-graduate",
   "metadata": {},
   "outputs": [
    {
     "data": {
      "text/plain": [
       "['https://data.ornldaac.earthdata.nasa.gov/protected/gedi/GEDI_L4A_AGB_Density_V2_1/data/GEDI04_A_2019146134206_O02558_01_T05641_02_002_02_V002.h5',\n",
       " 'https://data.ornldaac.earthdata.nasa.gov/protected/gedi/GEDI_L4A_AGB_Density_V2_1/data/GEDI04_A_2019160192444_O02779_04_T02282_02_002_02_V002.h5',\n",
       " 'https://data.ornldaac.earthdata.nasa.gov/protected/gedi/GEDI_L4A_AGB_Density_V2_1/data/GEDI04_A_2019197172428_O03352_01_T04218_02_002_02_V002.h5',\n",
       " 'https://data.ornldaac.earthdata.nasa.gov/protected/gedi/GEDI_L4A_AGB_Density_V2_1/data/GEDI04_A_2019245095256_O04092_04_T04975_02_002_02_V002.h5',\n",
       " 'https://data.ornldaac.earthdata.nasa.gov/protected/gedi/GEDI_L4A_AGB_Density_V2_1/data/GEDI04_A_2019290155834_O04794_04_T01976_02_002_02_V002.h5',\n",
       " 'https://data.ornldaac.earthdata.nasa.gov/protected/gedi/GEDI_L4A_AGB_Density_V2_1/data/GEDI04_A_2019313070136_O05145_04_T00400_02_002_02_V002.h5',\n",
       " 'https://data.ornldaac.earthdata.nasa.gov/protected/gedi/GEDI_L4A_AGB_Density_V2_1/data/GEDI04_A_2019313192421_O05153_01_T04371_02_002_02_V002.h5',\n",
       " 'https://data.ornldaac.earthdata.nasa.gov/protected/gedi/GEDI_L4A_AGB_Density_V2_1/data/GEDI04_A_2019343185438_O05618_04_T03552_02_002_02_V002.h5',\n",
       " 'https://data.ornldaac.earthdata.nasa.gov/protected/gedi/GEDI_L4A_AGB_Density_V2_1/data/GEDI04_A_2020009191531_O06099_01_T01525_02_002_02_V002.h5',\n",
       " 'https://data.ornldaac.earthdata.nasa.gov/protected/gedi/GEDI_L4A_AGB_Density_V2_1/data/GEDI04_A_2020013051735_O06152_04_T02129_02_002_02_V002.h5']"
      ]
     },
     "execution_count": 3,
     "metadata": {},
     "output_type": "execute_result"
    }
   ],
   "source": [
    "from maap.maap import MAAP\n",
    "from gedi_subset.maapx import find_collection\n",
    "\n",
    "granules = []\n",
    "maap = MAAP(\"api.ops.maap-project.org\")\n",
    "\n",
    "# Search for the collection concept ID using find_collection\n",
    "for collection in find_collection(maap, cmr, {\"doi\": f\"*{doi}*\"}):\n",
    "\n",
    "    # Search for related granules within the collection over the AOI\n",
    "    for granule in maap.searchGranule(\n",
    "        cmr_host=cmr,\n",
    "        collection_concept_id=collection[\"concept-id\"],\n",
    "        bounding_box=bbox,\n",
    "        limit=limit,\n",
    "    ):\n",
    "        granules.append(\n",
    "            next(\n",
    "                (\n",
    "                    obj[\"URL\"]\n",
    "                    for obj in granule[\"Granule\"][\"OnlineAccessURLs\"][\"OnlineAccessURL\"]\n",
    "                    if obj[\"URL\"].startswith(\"https://\")  # https or s3\n",
    "                ),\n",
    "                granule[\"Granule\"][\"OnlineAccessURLs\"][\"OnlineAccessURL\"][1][\"URL\"],\n",
    "            )\n",
    "        )\n",
    "granules"
   ]
  },
  {
   "cell_type": "code",
   "execution_count": null,
   "id": "placed-breakdown",
   "metadata": {},
   "outputs": [],
   "source": [
    "with open(\"granules.txt\", \"w\") as f:\n",
    "    for granule_url in granules:\n",
    "        f.write(f\"{granule_url}\\n\")"
   ]
  },
  {
   "cell_type": "code",
   "execution_count": null,
   "id": "recreational-albany",
   "metadata": {},
   "outputs": [],
   "source": []
  }
 ],
 "metadata": {
  "kernelspec": {
   "display_name": "gedi_subset",
   "language": "python",
   "name": "gedi_subset"
  },
  "language_info": {
   "codemirror_mode": {
    "name": "ipython",
    "version": 3
   },
   "file_extension": ".py",
   "mimetype": "text/x-python",
   "name": "python",
   "nbconvert_exporter": "python",
   "pygments_lexer": "ipython3",
   "version": "3.10.4"
  }
 },
 "nbformat": 4,
 "nbformat_minor": 5
}
