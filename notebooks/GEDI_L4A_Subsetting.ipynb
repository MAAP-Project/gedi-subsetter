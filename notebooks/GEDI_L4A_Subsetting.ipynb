{
 "cells": [
  {
   "cell_type": "markdown",
   "id": "norman-hollow",
   "metadata": {},
   "source": [
    "# Subsetting GEDI L4A Example\n",
    "\n",
    "## [Optional] Install Python Packages\n",
    "\n",
    "This notebook contains some cells marked as optional, meaning that you can use this notebook without necessarily running such cells.\n",
    "\n",
    "However, if you do wish to run the optional cells, you must install the following Python packages, which might not already be installed in your environment:\n",
    "\n",
    "- `geopandas`: for reading your AOI (GeoJson file), as well as for reading the job output (GeoPackage file containing the subset)\n",
    "- `contextily`: for visually verifying your AOI\n",
    "- `backoff`: for repeatedly polling the job status (after submission) until the job has completed (either successfully or not)\n",
    "\n",
    "A job can be submitted without these packages, but installing them in order to run the optional cells may make it more convenient for you to visually verify both your AOI and the subset output produced by your job.\n",
    "\n",
    "## Obtain Username"
   ]
  },
  {
   "cell_type": "code",
   "execution_count": null,
   "id": "irish-white",
   "metadata": {},
   "outputs": [],
   "source": [
    "from maap.maap import MAAP\n",
    "\n",
    "maap = MAAP(maap_host=\"api.ops.maap-project.org\")\n",
    "username = maap.profile.account_info()[\"username\"]\n",
    "username"
   ]
  },
  {
   "cell_type": "markdown",
   "id": "distributed-concern",
   "metadata": {},
   "source": [
    "## Define Area of Interest\n",
    "\n",
    "You may use either a publicly available GeoJSON file for your AOI, such as\n",
    "those available at [geoBoundaries](https://www.geoboundaries.org), or you\n",
    "may create a custom GeoJSON file for your AOI.  The following 2 subsections\n",
    "cover both cases.\n",
    "\n",
    "### Using a geoBoundary GeoJSON File\n",
    "\n",
    "If your AOI is a publicly available geoBoundary, you can obtain the URL for the\n",
    "GeoJSON file using the function below.  You simply need to supply an ISO3 value\n",
    "and a level.  To find the appropriate ISO3 and level values, see the\n",
    "[table on the geoBoundaries site](https://www.geoboundaries.org/index.html#getdata)."
   ]
  },
  {
   "cell_type": "code",
   "execution_count": null,
   "id": "frequent-citizenship",
   "metadata": {},
   "outputs": [],
   "source": [
    "import requests\n",
    "\n",
    "\n",
    "def get_geo_boundary_url(iso3: str, level: int) -> str:\n",
    "    response = requests.get(\n",
    "        f\"https://www.geoboundaries.org/api/current/gbOpen/{iso3}/ADM{level}\"\n",
    "    )\n",
    "    response.raise_for_status()\n",
    "    return response.json()[\"gjDownloadURL\"]\n",
    "\n",
    "\n",
    "# If using a geoBoundary, uncomment the following assignment, supply\n",
    "# appropriate values for `<iso3>` and `<level>`, then run this cell.\n",
    "\n",
    "# Example (Gabon level 0): get_geo_boundary(\"GAB\", 0)\n",
    "\n",
    "# aoi = get_geo_boundary_url(\"<iso3>\", <level>)"
   ]
  },
  {
   "cell_type": "markdown",
   "id": "present-minority",
   "metadata": {},
   "source": [
    "### Using a Custom GeoJSON File\n",
    "\n",
    "Alternatively, you can make your own GeoJSON file for your AOI and place it\n",
    "within your `my-public-bucket` folder within the ADE.\n",
    "\n",
    "Based upon where you place your GeoJSON file under `my-public-bucket`, you can\n",
    "construct the URL for a job's `aoi` input value.\n",
    "\n",
    "For example, if the relative path of your AOI GeoJSON file under\n",
    "`my-public-bucket` is `path/to/my-aoi.geojson` (avoid using whitespace in the\n",
    "path and filename), the URL you would supply as the value of a job's `aoi`\n",
    "input would be the following (where `{username}` is replaced with your username\n",
    "as output from the previous section):\n",
    "\n",
    "```\n",
    "f\"https://maap-ops-workspace.s3.amazonaws.com/shared/{username}/path/to/my-aoi.geojson\"`\n",
    "```\n",
    "\n",
    "If this is the case, use the cell below."
   ]
  },
  {
   "cell_type": "code",
   "execution_count": 24,
   "id": "white-stocks",
   "metadata": {},
   "outputs": [],
   "source": [
    "# If using a GeoJSON placed somewhere under your `my-public-bucket` folder,\n",
    "# uncomment the following assignment, adjust the path as necessary, then run\n",
    "# this cell.\n",
    "\n",
    "# aoi = f\"https://maap-ops-workspace.s3.amazonaws.com/shared/{username}/path/to/my-aoi.geojson\""
   ]
  },
  {
   "cell_type": "markdown",
   "id": "awful-internship",
   "metadata": {},
   "source": [
    "## [Optional] Visually Verify your AOI\n",
    "\n",
    "If you want to visually verify your AOI before proceeding, you may run the following cell, if you have the `geopandas` and `contextily` Python packages installed."
   ]
  },
  {
   "cell_type": "code",
   "execution_count": null,
   "id": "simplified-supplier",
   "metadata": {},
   "outputs": [],
   "source": [
    "try:\n",
    "    import geopandas as gpd\n",
    "    import contextily as ctx\n",
    "except:\n",
    "    print(\n",
    "        \"If you wish to visually verify your AOI, \"\n",
    "        \"you must install the `geopandas` and `contextily` packages.\"\n",
    "    )\n",
    "else:\n",
    "    aoi_gdf = gpd.read_file(aoi)\n",
    "    aoi_epsg4326 = aoi_gdf.to_crs(epsg=4326)\n",
    "    ax = aoi_epsg4326.plot(figsize=(10, 5), alpha=0.3, edgecolor=\"red\")\n",
    "    ctx.add_basemap(ax, crs=4326)"
   ]
  },
  {
   "cell_type": "markdown",
   "id": "executive-receipt",
   "metadata": {},
   "source": [
    "## Submit a Job\n",
    "\n",
    "When supplying input values for a GEDI subsetting job, to use the default value\n",
    "for a field (where indicated), use a dash (`\"-\"`) as the input value.\n",
    "\n",
    "- `aoi` (required): URL to a GeoJSON file representing your area of interest,\n",
    "  as explained above.\n",
    "\n",
    "- `columns`: Comma-separated list of column names to include in the output file.\n",
    "  (Default: `\"agbd, agbd_se, l2_quality_flag, l4_quality_flag, sensitivity, sensitivity_a2\"`)\n",
    "\n",
    "- `query`: Query expression for subsetting the rows in the output file.\n",
    "  (Default: `\"l2_quality_flag == 1 and l4_quality_flag == 1 and sensitivity > 0.95 and sensitivity_a2 > 0.95\"`)\n",
    "\n",
    "  **IMPORTANT**: The `columns` input must contain at least all of the columns\n",
    "  that appear in this `query` expression, otherwise an error will occur.\n",
    "\n",
    "- `limit`: Maximum number of GEDI granule data files to download (among those\n",
    "  that intersect the specified AOI). (Default: 10000)\n",
    "\n",
    "It is recommended to use `maap-dps-worker-16gb` or `maap-dps-worker-32gb` queues when submitting a job with a large aoi."
   ]
  },
  {
   "cell_type": "code",
   "execution_count": null,
   "id": "geographic-capacity",
   "metadata": {},
   "outputs": [],
   "source": [
    "inputs = dict(\n",
    "    aoi=aoi,\n",
    "    columns=\"-\",\n",
    "    query=\"-\",\n",
    "    limit=\"-\",\n",
    ")\n",
    "\n",
    "result = maap.submitJob(\n",
    "    identifier=\"gedi-subset\",\n",
    "    algo_id=\"gedi-subset_ubuntu\",\n",
    "    version=\"gedi-subset-0.2.7\",\n",
    "    queue=\"maap-dps-worker-8gb\",\n",
    "    username=username,\n",
    "    **inputs,\n",
    ")\n",
    "\n",
    "job_id = result[\"job_id\"]\n",
    "job_id"
   ]
  },
  {
   "cell_type": "markdown",
   "id": "covered-importance",
   "metadata": {},
   "source": [
    "## Get the Job's Output File\n",
    "\n",
    "Now that the job has been submitted, we can use the `job_id` to check the job\n",
    "status until the job has completed."
   ]
  },
  {
   "cell_type": "code",
   "execution_count": null,
   "id": "ancient-great",
   "metadata": {},
   "outputs": [],
   "source": [
    "import xml.etree.ElementTree as ET\n",
    "from urllib.parse import urlparse\n",
    "\n",
    "\n",
    "def job_status_for(job_id: str) -> str:\n",
    "    response = maap.getJobStatus(job_id)\n",
    "    response.raise_for_status()\n",
    "\n",
    "    root = ET.fromstring(response.text)\n",
    "    status_element = root.find(\".//{http://www.opengis.net/wps/2.0}Status\")\n",
    "\n",
    "    return status_element.text\n",
    "\n",
    "\n",
    "def job_result_for(job_id: str) -> str:\n",
    "    response = maap.getJobResult(job_id)\n",
    "    response.raise_for_status()\n",
    "\n",
    "    root = ET.fromstring(response.text)\n",
    "\n",
    "    return root.find(\".//{http://www.opengis.net/wps/2.0}Data\").text\n",
    "\n",
    "\n",
    "def to_job_output_dir(job_result_url: str) -> str:\n",
    "    url_path = urlparse(job_result_url).path\n",
    "    # The S3 Key is the URL path excluding the `/{username}` prefix\n",
    "    s3_key = \"/\".join(url_path.split(\"/\")[2:])\n",
    "\n",
    "    return f\"/projects/my-private-bucket/{s3_key}\""
   ]
  },
  {
   "cell_type": "markdown",
   "id": "aerial-fancy",
   "metadata": {},
   "source": [
    "If you have installed the `backoff` Python package, running the following cell\n",
    "will automatically repeatedly check your job's status until the job has\n",
    "completed. Otherwise, you will have to manually repeatedly rerun the following\n",
    "cell until the output is either `'Suceeded'` or `'Failed'`."
   ]
  },
  {
   "cell_type": "code",
   "execution_count": null,
   "id": "severe-atlas",
   "metadata": {},
   "outputs": [],
   "source": [
    "try:\n",
    "    import backoff\n",
    "except:\n",
    "    job_status = job_status_for(job_id)\n",
    "else:\n",
    "    # Check job status every 2 minutes\n",
    "    @backoff.on_predicate(\n",
    "        backoff.constant,\n",
    "        lambda status: status not in [\"Deleted\", \"Succeeded\", \"Failed\"],\n",
    "        interval=120,\n",
    "    )\n",
    "    def wait_for_job(job_id: str) -> str:\n",
    "        return job_status_for(job_id)\n",
    "\n",
    "    job_status = wait_for_job(job_id)\n",
    "\n",
    "job_status"
   ]
  },
  {
   "cell_type": "code",
   "execution_count": null,
   "id": "constitutional-hungarian",
   "metadata": {},
   "outputs": [],
   "source": [
    "assert job_status == \"Succeeded\", (\n",
    "    job_result_for(job_id)\n",
    "    if job_status == \"Failed\"\n",
    "    else f\"Job {job_id} has not yet completed ({job_status}). Rerun the prior cell.\"\n",
    ")\n",
    "\n",
    "output_url = job_result_for(job_id)\n",
    "output_dir = to_job_output_dir(output_url)\n",
    "output_file = f\"{output_dir}/gedi_subset.gpkg\"\n",
    "print(f\"Your subset results are in the file {output_file}\")"
   ]
  },
  {
   "cell_type": "markdown",
   "id": "sized-cambodia",
   "metadata": {},
   "source": [
    "## [Optional] Visually Verify the Results\n",
    "\n",
    "If you installed the `geopandas` Python package, you can visually verify the\n",
    "output file by running the following cell."
   ]
  },
  {
   "cell_type": "code",
   "execution_count": null,
   "id": "preceding-wealth",
   "metadata": {},
   "outputs": [],
   "source": [
    "try:\n",
    "    import geopandas as gpd\n",
    "    import matplotlib.pyplot as plt\n",
    "except:\n",
    "    print(\n",
    "        \"If you wish to visually verify your output file, \"\n",
    "        \"you must install the `geopandas` package.\"\n",
    "    )\n",
    "else:\n",
    "    gedi_gdf = gpd.read_file(output_file)\n",
    "    agbd_colors = plt.cm.get_cmap(\"viridis_r\")\n",
    "    gedi_gdf.plot(column=\"agbd\", cmap=agbd_colors)"
   ]
  }
 ],
 "metadata": {
  "kernelspec": {
   "display_name": "Python [conda env:gedi_subset]",
   "language": "python",
   "name": "conda-env-gedi_subset-py"
  },
  "language_info": {
   "codemirror_mode": {
    "name": "ipython",
    "version": 3
   },
   "file_extension": ".py",
   "mimetype": "text/x-python",
   "name": "python",
   "nbconvert_exporter": "python",
   "pygments_lexer": "ipython3",
   "version": "3.10.4"
  }
 },
 "nbformat": 4,
 "nbformat_minor": 5
}
